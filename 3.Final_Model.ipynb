{
 "cells": [
  {
   "cell_type": "code",
   "execution_count": 28,
   "metadata": {
    "id": "ttJIo4vbh2VL"
   },
   "outputs": [],
   "source": [
    "import pandas as pd\n",
    "final = pd.read_csv('final_cleaned_data_1.csv')\n",
    "final  = final.iloc[:,2:]\n",
    "X = final.drop(['masked_account','Paid_In_30',],axis = 1)\n",
    "Y = final['Paid_In_30']\n",
    "\n",
    "from sklearn.preprocessing import LabelEncoder\n",
    "\n",
    "enc = LabelEncoder()\n",
    "X.Credit_tier = enc.fit_transform(X.Credit_tier)\n",
    "\n",
    "enc_labels = LabelEncoder()\n",
    "Y = enc_labels.fit_transform(Y)"
   ]
  },
  {
   "cell_type": "markdown",
   "metadata": {},
   "source": [
    "# Selected Variables"
   ]
  },
  {
   "cell_type": "code",
   "execution_count": 44,
   "metadata": {},
   "outputs": [
    {
     "data": {
      "text/plain": [
       "Index(['ApplicantFICOScore', 'DTI', 'LTV', 'PTI_BOOKED', 'CUSTOM_SCORE', 'MOB',\n",
       "       'BACKEND_TOTAL', 'LINE4_LTV', 'F0066_CONTACT_NO_PROMISE_COUNT',\n",
       "       'DSL_NSF', 'F0065_PROMISES_TAKEN_COUNT',\n",
       "       'F0068_ATTEMPTED_CONTACT_COUNT', 'F0071_CORRESPONDENCE_COUNT',\n",
       "       'F0283_PROMISES_KEPT_LIFE_TO_DATE',\n",
       "       'F0304_TODAY_MINUS_PROMISES_TAKEN_DATE',\n",
       "       'F0307_TODAY_MINUS_ATTEMPTED_CONTACT_DATE',\n",
       "       'F0314_TODAY_MINUS_DAYS_LAST_CONTACT', 'F0381_DAYS_DELINQUENT_360',\n",
       "       'PROMISE_STATUS_O', 'BALANCE_PERCENT_LOAN', 'DSLP',\n",
       "       'EXTENSION_ELIGIBLE_Y', 'F0180_CURRENT_INTEREST_RATE',\n",
       "       'F0198_NUMBER_OF_PAYMENTS_PAID', 'F0217_NSF_HISTORY',\n",
       "       'F0223_NUMBER_OF_EXTENSIONS', 'PMT_RAT_OBS', 'lastchannel_Z',\n",
       "       'PaymentAmtLast60Days', 'PaymentAmtLast90Days', 'PaymentNumLast120Days',\n",
       "       'PmtNumFullAmtLast60Days', 'LIFETIME_COUNT_Paymentus_Debit',\n",
       "       'D31P_TOT_2', 'D9P_TOT_3', 'D9P_TOT_4', 'D9P_TOT_6', 'D5P_TOT_4',\n",
       "       'D5P_TOT_1', 'D31P_TOT_6', 'DD_AVG_1', 'BAL_RAT_TRN_3', 'BAL_RAT_TRN_6',\n",
       "       'PMT_RAT_AVG_2', 'PMT_RAT_AVG_3', 'PMT_RAT_AVG_4', 'BAL_TRN_3',\n",
       "       'BAL_TRN_6', 'CBTINDIRECTGEN23', 'LOANFUNDINGSCORE', 'VRS',\n",
       "       'LTVEffective', 'DepreciationRate', 'Credit_tier', 'Loan-Term_length',\n",
       "       'PAYMENT_AMT'],\n",
       "      dtype='object')"
      ]
     },
     "execution_count": 44,
     "metadata": {},
     "output_type": "execute_result"
    }
   ],
   "source": [
    "X.columns"
   ]
  },
  {
   "cell_type": "code",
   "execution_count": 43,
   "metadata": {},
   "outputs": [],
   "source": [
    "X.columns.to_series().to_csv('Selected_variables.csv',index =False)"
   ]
  },
  {
   "cell_type": "markdown",
   "metadata": {},
   "source": [
    "# Preprocessing for Model"
   ]
  },
  {
   "cell_type": "code",
   "execution_count": 29,
   "metadata": {
    "id": "vHfpfq0dG6M5"
   },
   "outputs": [],
   "source": [
    "from tensorflow.keras.utils import to_categorical\n",
    "Y_onehot = to_categorical(Y,num_classes=2)"
   ]
  },
  {
   "cell_type": "code",
   "execution_count": 30,
   "metadata": {
    "id": "gYQ0pwBE_aHi"
   },
   "outputs": [],
   "source": [
    "from sklearn.preprocessing import StandardScaler\n",
    "scaler = StandardScaler()\n",
    "X_scaled = pd.DataFrame(scaler.fit_transform(X),columns = X.columns)"
   ]
  },
  {
   "cell_type": "code",
   "execution_count": 31,
   "metadata": {
    "id": "-v6sCsW4h95E"
   },
   "outputs": [],
   "source": [
    "from sklearn.model_selection import train_test_split\n",
    "\n",
    "# Splitting Data into Training and Testing Data\n",
    "x_train,x_val,y_train,y_val = train_test_split(X_scaled,Y_onehot,random_state =7,test_size=0.3)\n",
    "\n",
    "# Splitting Data into Training and Testing Data\n",
    "x_test,x_val,y_test,y_val = train_test_split(x_val,y_val,random_state =7,test_size=0.5)"
   ]
  },
  {
   "cell_type": "code",
   "execution_count": 12,
   "metadata": {
    "colab": {
     "base_uri": "https://localhost:8080/"
    },
    "id": "f9RGMeM4k5TI",
    "outputId": "2ff86cc4-cf48-47a2-93d4-677f61e65966"
   },
   "outputs": [
    {
     "data": {
      "text/plain": [
       "(32939, 56)"
      ]
     },
     "execution_count": 12,
     "metadata": {},
     "output_type": "execute_result"
    }
   ],
   "source": [
    "x_train.shape"
   ]
  },
  {
   "cell_type": "code",
   "execution_count": 1,
   "metadata": {
    "id": "XC32RcvOiRXg"
   },
   "outputs": [],
   "source": [
    "import tensorflow as tf\n",
    "\n",
    "NN_model = tf.keras.models.Sequential([\n",
    "        tf.keras.layers.Flatten(),\n",
    "        tf.keras.layers.Dense(50,input_shape = (56,)), # Dropouts are generally used after Activation functions but it can be used before for relu\n",
    "        tf.keras.layers.Activation('tanh'),\n",
    "        tf.keras.layers.Dense(25),  # Dropouts are generally used after Activation functions but it can be used before for relu\n",
    "        tf.keras.layers.Activation('tanh'),\n",
    "        tf.keras.layers.Dense(10),  # Dropouts are generally used after Activation functions but it can be used before for relu\n",
    "        tf.keras.layers.Activation('tanh'),       \n",
    "        tf.keras.layers.Dense(2,activation = 'softmax')\n",
    "    ])"
   ]
  },
  {
   "cell_type": "code",
   "execution_count": 175,
   "metadata": {
    "id": "Fw_7NiFRlz8y"
   },
   "outputs": [],
   "source": [
    "adam = tf.keras.optimizers.Adam(learning_rate= 0.000001,beta_1 =0.9 ,beta_2=0.99,decay = 1e-4)\n",
    "\n",
    "# Compile\n",
    "NN_model.compile(optimizer= adam,loss='binary_crossentropy',metrics=[tf.keras.metrics.AUC(from_logits=True)])\n",
    "# NN_model.compile(optimizer= adam,loss='binary_crossentropy',metrics=['accuracy'])"
   ]
  },
  {
   "cell_type": "code",
   "execution_count": 176,
   "metadata": {
    "colab": {
     "base_uri": "https://localhost:8080/"
    },
    "id": "C9t1I0dll-rg",
    "outputId": "5b459620-9695-44af-f827-72fbe8cd780f"
   },
   "outputs": [
    {
     "name": "stdout",
     "output_type": "stream",
     "text": [
      "Epoch 1/500\n",
      "51/51 [==============================] - 2s 15ms/step - loss: 0.2315 - auc_35: 0.9610 - val_loss: 0.2283 - val_auc_35: 0.9621\n",
      "Epoch 2/500\n",
      "51/51 [==============================] - 0s 7ms/step - loss: 0.2315 - auc_35: 0.9610 - val_loss: 0.2283 - val_auc_35: 0.9621\n",
      "Epoch 3/500\n",
      "51/51 [==============================] - 0s 6ms/step - loss: 0.2315 - auc_35: 0.9610 - val_loss: 0.2283 - val_auc_35: 0.9621\n",
      "Epoch 4/500\n",
      "51/51 [==============================] - 0s 6ms/step - loss: 0.2315 - auc_35: 0.9610 - val_loss: 0.2283 - val_auc_35: 0.9621\n",
      "Epoch 5/500\n",
      "51/51 [==============================] - 0s 7ms/step - loss: 0.2315 - auc_35: 0.9610 - val_loss: 0.2283 - val_auc_35: 0.9621\n",
      "Epoch 6/500\n",
      "51/51 [==============================] - 0s 6ms/step - loss: 0.2315 - auc_35: 0.9610 - val_loss: 0.2283 - val_auc_35: 0.9621\n",
      "Epoch 7/500\n",
      "51/51 [==============================] - 0s 6ms/step - loss: 0.2315 - auc_35: 0.9610 - val_loss: 0.2283 - val_auc_35: 0.9621\n"
     ]
    },
    {
     "data": {
      "text/plain": [
       "<keras.callbacks.History at 0x7fbc88eeab90>"
      ]
     },
     "execution_count": 176,
     "metadata": {},
     "output_type": "execute_result"
    }
   ],
   "source": [
    "EarlyStopping = tf.keras.callbacks.EarlyStopping(monitor='val_loss',patience=5,min_delta = 0.00000001)\n",
    "\n",
    "NN_model.fit(X,Y,epochs=500,validation_data=(x_val,y_val),batch_size = int(X.shape[0]/50),callbacks=EarlyStopping)"
   ]
  },
  {
   "cell_type": "markdown",
   "metadata": {},
   "source": [
    "## Saving the model\n"
   ]
  },
  {
   "cell_type": "code",
   "execution_count": 178,
   "metadata": {
    "colab": {
     "base_uri": "https://localhost:8080/"
    },
    "id": "GF3RcaOAAsAQ",
    "outputId": "8a51dc9f-196f-4ab5-b540-fba2c8325c9a"
   },
   "outputs": [
    {
     "name": "stdout",
     "output_type": "stream",
     "text": [
      "Drive already mounted at /content/drive; to attempt to forcibly remount, call drive.mount(\"/content/drive\", force_remount=True).\n",
      "INFO:tensorflow:Assets written to: /content/drive/My Drive/NN_model2/assets\n"
     ]
    }
   ],
   "source": [
    "NN_model.save('NN_model2')"
   ]
  },
  {
   "cell_type": "markdown",
   "metadata": {},
   "source": [
    "### How to load the model"
   ]
  },
  {
   "cell_type": "code",
   "execution_count": 33,
   "metadata": {
    "id": "1fi9MQnR9mZ3"
   },
   "outputs": [],
   "source": [
    "NN_model_check_2 = tf.keras.models.load_model('Final_Model/NN_model2')"
   ]
  },
  {
   "cell_type": "markdown",
   "metadata": {},
   "source": [
    "# Model Score"
   ]
  },
  {
   "cell_type": "code",
   "execution_count": 34,
   "metadata": {
    "colab": {
     "base_uri": "https://localhost:8080/"
    },
    "id": "o0x-tN2vpnfi",
    "outputId": "1fc4b9ea-3498-4a37-ae17-8f82548322da"
   },
   "outputs": [
    {
     "name": "stdout",
     "output_type": "stream",
     "text": [
      "AUC : 0.9632571948717533\n",
      "Accuracy : 0.908343958067715\n"
     ]
    }
   ],
   "source": [
    "from sklearn import metrics\n",
    "import numpy as np\n",
    "y_predicted = NN_model_check_2.predict(x_test)\n",
    "print(\"AUC : \" + str(metrics.roc_auc_score(y_test,y_predicted)))## This score will give the prediction whether the person is likely to pay or not\n",
    "print(\"Accuracy : {0}\".format(metrics.accuracy_score(np.argmax(y_test,axis =1),np.argmax(y_predicted,axis =1))))"
   ]
  },
  {
   "cell_type": "markdown",
   "metadata": {},
   "source": [
    "# Predicted Probability of Account Paying Us Back"
   ]
  },
  {
   "cell_type": "code",
   "execution_count": 36,
   "metadata": {},
   "outputs": [
    {
     "data": {
      "text/plain": [
       "array([9.9726117e-01, 1.3662697e-05, 1.4617925e-05, ..., 9.9774867e-01,\n",
       "       9.8058403e-01, 9.9998701e-01], dtype=float32)"
      ]
     },
     "execution_count": 36,
     "metadata": {},
     "output_type": "execute_result"
    }
   ],
   "source": [
    "y_predicted[:,1] "
   ]
  },
  {
   "cell_type": "markdown",
   "metadata": {},
   "source": [
    "# Actual class of account indicating whether the User paid us or not"
   ]
  },
  {
   "cell_type": "code",
   "execution_count": 38,
   "metadata": {},
   "outputs": [
    {
     "data": {
      "text/plain": [
       "array([1., 0., 0., ..., 1., 1., 1.], dtype=float32)"
      ]
     },
     "execution_count": 38,
     "metadata": {},
     "output_type": "execute_result"
    }
   ],
   "source": [
    "y_test[:,1]"
   ]
  },
  {
   "cell_type": "markdown",
   "metadata": {},
   "source": [
    "# Extra Models"
   ]
  },
  {
   "cell_type": "markdown",
   "metadata": {},
   "source": [
    "## NN model 1"
   ]
  },
  {
   "cell_type": "code",
   "execution_count": 24,
   "metadata": {
    "id": "KM4t2XPKCNlZ"
   },
   "outputs": [],
   "source": [
    "NN_model_check = tf.keras.models.load_model('Extra Models/NN_model1')"
   ]
  },
  {
   "cell_type": "code",
   "execution_count": 26,
   "metadata": {},
   "outputs": [],
   "source": [
    "from sklearn.model_selection import train_test_split\n",
    "# Splitting Data into Training and Testing Data\n",
    "x_train,x_val,y_train,y_val = train_test_split(X_scaled,Y,random_state =7,test_size=0.3)\n",
    "\n",
    "# Splitting Data into Training and Testing Data\n",
    "x_test,x_val,y_test,y_val = train_test_split(x_val,y_val,random_state =7,test_size=0.5)"
   ]
  },
  {
   "cell_type": "code",
   "execution_count": 27,
   "metadata": {
    "colab": {
     "base_uri": "https://localhost:8080/"
    },
    "id": "O48-wYAM9Djp",
    "outputId": "ecc06525-c214-4610-8b2a-f39d37f37e75"
   },
   "outputs": [
    {
     "name": "stdout",
     "output_type": "stream",
     "text": [
      "AUC : 0.9471305659398136\n",
      "Accuracy : 0.8795863436747414\n"
     ]
    }
   ],
   "source": [
    "from sklearn import metrics\n",
    "\n",
    "y_predicted = NN_model_check.predict(x_test)\n",
    "print(\"AUC : \" + str(metrics.roc_auc_score(y_test,y_predicted)))\n",
    "print(\"Accuracy : {0}\".format(metrics.accuracy_score(y_test,y_predicted > 0.5)))"
   ]
  },
  {
   "cell_type": "markdown",
   "metadata": {
    "id": "yN3MpGSKXCMl"
   },
   "source": [
    "# XGboost model should be above 1.2.0"
   ]
  },
  {
   "cell_type": "code",
   "execution_count": 33,
   "metadata": {
    "colab": {
     "base_uri": "https://localhost:8080/",
     "height": 225
    },
    "id": "ysEBgOoEZMr6",
    "outputId": "29f300f6-fcb7-4209-9279-ec9b1e16e9d7"
   },
   "outputs": [
    {
     "name": "stdout",
     "output_type": "stream",
     "text": [
      "Collecting xgboost==1.4.2\n",
      "  Downloading xgboost-1.4.2-py3-none-manylinux2010_x86_64.whl (166.7 MB)\n",
      "\u001b[K     |████████████████████████████████| 166.7 MB 14 kB/s \n",
      "\u001b[?25hRequirement already satisfied: scipy in /usr/local/lib/python3.7/dist-packages (from xgboost==1.4.2) (1.4.1)\n",
      "Requirement already satisfied: numpy in /usr/local/lib/python3.7/dist-packages (from xgboost==1.4.2) (1.21.6)\n",
      "Installing collected packages: xgboost\n",
      "Successfully installed xgboost-1.4.2\n"
     ]
    },
    {
     "data": {
      "application/vnd.colab-display-data+json": {
       "pip_warning": {
        "packages": [
         "xgboost"
        ]
       }
      }
     },
     "metadata": {},
     "output_type": "display_data"
    }
   ],
   "source": [
    "!pip install xgboost==1.4.2"
   ]
  },
  {
   "cell_type": "code",
   "execution_count": 1,
   "metadata": {
    "id": "5VshCkEbQbwx"
   },
   "outputs": [],
   "source": [
    "import xgboost as xgb\n",
    "xgb_mod = xgb.XGBClassifier()\n",
    "xgb_mod.load_model('xgb.json')"
   ]
  },
  {
   "cell_type": "code",
   "execution_count": 18,
   "metadata": {
    "id": "Yci0Fjq4VowC"
   },
   "outputs": [],
   "source": [
    "from sklearn.model_selection import train_test_split\n",
    "from sklearn import metrics\n",
    "# Splitting Data into Training and Testing Data\n",
    "x_train_tree,x_test,y_train_tree,y_test = train_test_split(X,Y,random_state =7,test_size=0.3)"
   ]
  },
  {
   "cell_type": "code",
   "execution_count": 19,
   "metadata": {
    "colab": {
     "base_uri": "https://localhost:8080/"
    },
    "id": "ZQW3UY1kWWLx",
    "outputId": "925850b6-989b-47a2-fa56-a11154098ec2"
   },
   "outputs": [
    {
     "name": "stdout",
     "output_type": "stream",
     "text": [
      "Score of the intialized model 0.8450913727156821\n",
      "AUC : 0.9172939816525976\n"
     ]
    }
   ],
   "source": [
    "y_predicted = xgb_mod.predict_proba(x_test)\n",
    "print(\"Score of the intialized model \" + str(xgb_mod.score(x_test,y_test)))\n",
    "print(\"AUC : \" + str(metrics.roc_auc_score(y_test,y_predicted[:,1])))"
   ]
  }
 ],
 "metadata": {
  "colab": {
   "name": "UTD Competition NN Model.ipynb",
   "provenance": []
  },
  "kernelspec": {
   "display_name": "Python 3 (ipykernel)",
   "language": "python",
   "name": "python3"
  },
  "language_info": {
   "codemirror_mode": {
    "name": "ipython",
    "version": 3
   },
   "file_extension": ".py",
   "mimetype": "text/x-python",
   "name": "python",
   "nbconvert_exporter": "python",
   "pygments_lexer": "ipython3",
   "version": "3.9.7"
  }
 },
 "nbformat": 4,
 "nbformat_minor": 1
}
